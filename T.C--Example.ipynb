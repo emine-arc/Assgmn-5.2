{
 "cells": [
  {
   "cell_type": "code",
   "execution_count": null,
   "metadata": {},
   "outputs": [],
   "source": [
    "tc10 = ((tc1 + tc3 + tc5 + tc7 + tc9) * 7 - (tc2 + tc4 + tc6 + tc8)) % 10 #bu denklem bize 10.haneyi veriyor.elde edilen sonucun birler basamagi\n",
    "tc11 = (tc1 + tc2 + tc3 + tc4 + tc5 + tc6 + tc7 + tc8 + tc9 + tc10) % 10  # 11. haneyi verir\n"
   ]
  },
  {
   "cell_type": "code",
   "execution_count": 2,
   "metadata": {},
   "outputs": [
    {
     "name": "stdout",
     "output_type": "stream",
     "text": [
      "TC kimlik numarinizin ilk 9 hanesini giriniz: 123456789\n",
      "12345678950\n"
     ]
    }
   ],
   "source": [
    "tc = input(\"TC kimlik numarinizin ilk 9 hanesini giriniz: \")\n",
    "odds = 0\n",
    "evens = 0\n",
    "for i in range(0, 10, 2):\n",
    "    odds += int(tc[i])\n",
    "for i in range(1, 9, 2):\n",
    "    evens += int(tc[i])\n",
    "tc10 = (odds * 7 - evens) % 10\n",
    "\n",
    "sum = 0\n",
    "for i in tc + str(tc10):\n",
    "    sum += int(i)\n",
    "tc11 = sum % 10\n",
    "tc_no = tc+ str(tc10) + str(tc11)\n",
    "\n",
    "print(tc_no)"
   ]
  },
  {
   "cell_type": "code",
   "execution_count": 9,
   "metadata": {},
   "outputs": [
    {
     "name": "stdout",
     "output_type": "stream",
     "text": [
      "T.C. kimlik numaranizin ilk 9 hanesini giriniz: 123456789\n",
      "12345678900\n"
     ]
    }
   ],
   "source": [
    "tc = str(input(\"T.C. kimlik numaranizin ilk 9 hanesini giriniz: \")) ##kullanicidan ilk 9 heneyi string olarak aldik.\n",
    "count = 0   # sayac\n",
    "evens = 0  # cift hanelerin tutuldugu degisken\n",
    "odds = 0   # tek hanelerin tultuldugu degisken\n",
    "\n",
    "for i in tc:  #tc stringinin icerisinde i donuyor\n",
    "    count += 1  # sayac basladi. # sayac 1 oldu. Yani ilk rakamdayim.\n",
    "    i = int(i) # i string idi ama bize int lazim\n",
    "    \n",
    "    if count%2 == 0:  # sayacin 2'ye bolumunden kalan 0 isecift haneler\n",
    "        evens = evens + i  #evens degiskeni i ile toplanip tekrar evens degiskenine ataniyor\n",
    "    else:  #degilse tek haneler\n",
    "        odds = odds + i  #odds degiskeni ile toplanip tekrar odds degiskenine ataniyor\n",
    "tc = int(tc) * 100  # tc int olarak cevrildi. son iki basamak tahmini yapildigi icin 100 ile carptik.\n",
    "number_11 = (odds * 8) % 10  # birler basamagini bulduk.\n",
    "number_10 = (((odds * 7) -(evens)) %10) * 10  # onlar basamagini bulduk\n",
    "\n",
    "print(tc)  ##tc kimlik no basildi\n",
    "            \n",
    "    \n",
    "    "
   ]
  },
  {
   "cell_type": "code",
   "execution_count": 11,
   "metadata": {},
   "outputs": [
    {
     "name": "stdout",
     "output_type": "stream",
     "text": [
      "<function tc_no at 0x000001C79F34FF70>\n"
     ]
    }
   ],
   "source": [
    "def tc_no(value):\n",
    "    value = str(value)\n",
    "    \n",
    "    # 11 hanelidir.\n",
    "    if not len(value) == 11 :\n",
    "        return False\n",
    "    \n",
    "    # sadece rakamlardan olusur.\n",
    "    if not value.isdigit():\n",
    "        return False\n",
    "    \n",
    "    # ilk hanesi 0 olamaz.\n",
    "    if int(value[0]) == 0:\n",
    "        return False\n",
    "    \n",
    "    digits = [int(a) for a in str(value)]\n",
    "\n",
    "    # 1. 2. 3. 4. 5. 6. 7. 8. 9. ve 10. hanelerin toplamından elde edilen sonucun\n",
    "    # 10'a bölümünden kalan, yani Mod10'u bize 11. haneyi verir\n",
    "    \n",
    "    if not sum(digits[:10]) % 10 == digits[10]:\n",
    "        return False\n",
    "    \n",
    "    #  1. 3. 5. 7. ve 9. hanelerin toplamının 7 katından, 2. 4. 6. ve 8. hanelerin toplamı\n",
    "    #  çıkartıldığında, elde edilen sonucun 10'a bölümünden kalan, yani Mod10'u bize \n",
    "    #  10. haneyi verir.\n",
    "    \n",
    "    if not(((7 * sum(digits[:9][-1::-2])) - sum(digits[:9][-2::-2])) % 10) == digits[9]:\n",
    "        return False\n",
    "    \n",
    "    # butun kontrollerden gecti.\n",
    "    return True\n",
    "\n",
    "\n",
    "    "
   ]
  },
  {
   "cell_type": "code",
   "execution_count": null,
   "metadata": {},
   "outputs": [],
   "source": []
  }
 ],
 "metadata": {
  "kernelspec": {
   "display_name": "Python 3",
   "language": "python",
   "name": "python3"
  },
  "language_info": {
   "codemirror_mode": {
    "name": "ipython",
    "version": 3
   },
   "file_extension": ".py",
   "mimetype": "text/x-python",
   "name": "python",
   "nbconvert_exporter": "python",
   "pygments_lexer": "ipython3",
   "version": "3.8.5"
  }
 },
 "nbformat": 4,
 "nbformat_minor": 4
}
