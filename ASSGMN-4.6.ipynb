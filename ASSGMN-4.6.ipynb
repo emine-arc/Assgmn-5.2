{
 "cells": [
  {
   "cell_type": "markdown",
   "metadata": {},
   "source": [
    " 4.6 Write a program to prompt the user\n",
    "for hours and rate per hour using input to compute gross pay. \n",
    "Pay should be the normal rate for hours up to 40 and time-and-a-half for the hourly rate\n",
    "for all hours worked above 40 hours. Put the logic to do the \n",
    "computation of pay in a function called computepay() and use the function to do the computation. \n",
    "The function should return a value. Use 45 hours and a rate of 10.50 per hour to test the program\n",
    "(the pay should be 498.75). You should use input to read a string and float() to convert the string to a number. \n",
    "Do not worry about error checking the user input unless you want to - you can assume the user types numbers properly.\n",
    "Do not name your variable sum or use the sum() function."
   ]
  },
  {
   "cell_type": "code",
   "execution_count": 1,
   "metadata": {},
   "outputs": [
    {
     "name": "stdout",
     "output_type": "stream",
     "text": [
      "Enter Hours:45\n",
      "Enter Rate10.5\n",
      "Pay 498.75\n"
     ]
    }
   ],
   "source": [
    "def computepay(h,r):\n",
    "    if h > 40:\n",
    "        pa = 40 * r + (h-40)*1.5*r\n",
    "    else:\n",
    "        pa = h * r\n",
    "    return pa\n",
    "\n",
    "hrs = input(\"Enter Hours:\")\n",
    "h = float(hrs)\n",
    "rate = input(\"Enter Rate\")\n",
    "r = float(rate)\n",
    "p = computepay(h,r)\n",
    "\n",
    "print(\"Pay\",p)"
   ]
  },
  {
   "cell_type": "markdown",
   "metadata": {},
   "source": []
  },
  {
   "cell_type": "code",
   "execution_count": null,
   "metadata": {},
   "outputs": [],
   "source": []
  }
 ],
 "metadata": {
  "kernelspec": {
   "display_name": "Python 3",
   "language": "python",
   "name": "python3"
  },
  "language_info": {
   "codemirror_mode": {
    "name": "ipython",
    "version": 3
   },
   "file_extension": ".py",
   "mimetype": "text/x-python",
   "name": "python",
   "nbconvert_exporter": "python",
   "pygments_lexer": "ipython3",
   "version": "3.8.5"
  }
 },
 "nbformat": 4,
 "nbformat_minor": 4
}
