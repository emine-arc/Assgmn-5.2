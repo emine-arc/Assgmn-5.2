{
 "cells": [
  {
   "cell_type": "code",
   "execution_count": null,
   "metadata": {},
   "outputs": [],
   "source": []
  },
  {
   "cell_type": "code",
   "execution_count": null,
   "metadata": {},
   "outputs": [],
   "source": [
    "## letters count ##"
   ]
  },
  {
   "cell_type": "code",
   "execution_count": 2,
   "metadata": {},
   "outputs": [
    {
     "name": "stdout",
     "output_type": "stream",
     "text": [
      "{'h': 1, 'i': 1, 'p': 2, 'o': 2, ' ': 3, 'r': 1, 'u': 2, 'n': 1, 's': 2, 't': 1, '!': 1}\n"
     ]
    }
   ],
   "source": [
    "def pro_construction(txt1):\n",
    "    dictionary = {}\n",
    "    for i in txt1:\n",
    "        keys = dictionary.keys()\n",
    "        if i in keys:\n",
    "            dictionary[i] += 1\n",
    "        else:\n",
    "            dictionary[i] = 1\n",
    "    return dictionary\n",
    "print(pro_construction('hippo runs to us!'))"
   ]
  },
  {
   "cell_type": "code",
   "execution_count": 3,
   "metadata": {},
   "outputs": [
    {
     "name": "stdout",
     "output_type": "stream",
     "text": [
      "Please enter your sentence: hippo runs to us!\n",
      "Your word and letter counts are: 4\n"
     ]
    }
   ],
   "source": [
    "def main():\n",
    "    s = input(\"Please enter your sentence: \")\n",
    "    words = s.split()\n",
    "    wordCount = len(words)\n",
    "    print (\"Your word and letter counts are:\", wordCount)\n",
    "main()"
   ]
  },
  {
   "cell_type": "code",
   "execution_count": null,
   "metadata": {},
   "outputs": [],
   "source": []
  }
 ],
 "metadata": {
  "kernelspec": {
   "display_name": "Python 3",
   "language": "python",
   "name": "python3"
  },
  "language_info": {
   "codemirror_mode": {
    "name": "ipython",
    "version": 3
   },
   "file_extension": ".py",
   "mimetype": "text/x-python",
   "name": "python",
   "nbconvert_exporter": "python",
   "pygments_lexer": "ipython3",
   "version": "3.8.5"
  }
 },
 "nbformat": 4,
 "nbformat_minor": 4
}
